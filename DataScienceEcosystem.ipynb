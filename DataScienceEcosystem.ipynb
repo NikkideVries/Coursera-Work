{
 "cells": [
  {
   "cell_type": "markdown",
   "id": "89d620c1-bd08-4c2e-85e3-ffe1a4c64b7a",
   "metadata": {},
   "source": [
    "# Data Science Tools and Ecosystem"
   ]
  },
  {
   "cell_type": "markdown",
   "id": "e56e6b4d-7d95-4734-b1a9-9e18d86c9027",
   "metadata": {},
   "source": [
    "In this notebook, Data Science Tools and Ecosystem are summarized."
   ]
  },
  {
   "cell_type": "markdown",
   "id": "eb961def-f814-44c9-8eb7-395c262ee79c",
   "metadata": {},
   "source": [
    "**Objectives**\n",
    "- List popular languagues for Data Science\n",
    "- List commonly used libraries for Data Science\n",
    "- List well known Data Science Tools\n",
    "- Provide comments to explain code"
   ]
  },
  {
   "cell_type": "markdown",
   "id": "5b38c6ac-caab-4081-9159-e1e5fae52ae1",
   "metadata": {},
   "source": [
    "Some of the popular languages that Data Scientist use are: \n",
    "1. Python\n",
    "2. R\n",
    "3. SQL\n",
    "4. Scala\n",
    "5. Java\n",
    "6. C++\n",
    "7. Julia"
   ]
  },
  {
   "cell_type": "markdown",
   "id": "d98e612c-0315-4591-a428-e91ec2a3daed",
   "metadata": {},
   "source": [
    "Some of the commonly used libraries used by Data Scientist include:\n",
    "1. Pandas\n",
    "2. NumPy\n",
    "3. Matplotlib\n",
    "4. Seaborn\n",
    "4. Scikit-Learn\n",
    "5. Keras\n",
    "6. TensorFlow\n",
    "7. PyTorch"
   ]
  },
  {
   "cell_type": "markdown",
   "id": "40114c8f-f27f-4db6-8fce-9dcb9274a914",
   "metadata": {},
   "source": [
    "| Data Science Tools|\n",
    "| --- |\n",
    "| Anaconda|\n",
    "| R Studio|\n",
    "| TesnorFlow |"
   ]
  },
  {
   "cell_type": "markdown",
   "id": "b9c2ca7c-bd5e-4948-9c8f-68ccfef1428e",
   "metadata": {},
   "source": [
    "### Below are a few examples of evaluating arithmetic expressions in Python."
   ]
  },
  {
   "cell_type": "code",
   "execution_count": 2,
   "id": "6f29cac0-e767-4ec3-9551-6d84b5ec6c6d",
   "metadata": {
    "tags": []
   },
   "outputs": [
    {
     "data": {
      "text/plain": [
       "17"
      ]
     },
     "execution_count": 2,
     "metadata": {},
     "output_type": "execute_result"
    }
   ],
   "source": [
    "# This is simple arithemtic expression to multiply then add integers.\n",
    "(3*4)+5"
   ]
  },
  {
   "cell_type": "code",
   "execution_count": 3,
   "id": "bd7e8ffa-2582-480c-b319-a8daacdfd5a3",
   "metadata": {
    "tags": []
   },
   "outputs": [
    {
     "data": {
      "text/plain": [
       "3.3333333333333335"
      ]
     },
     "execution_count": 3,
     "metadata": {},
     "output_type": "execute_result"
    }
   ],
   "source": [
    "# This will convert 200 minutes to hours by dividing by 60.\n",
    "200/60"
   ]
  },
  {
   "cell_type": "markdown",
   "id": "d9c36fd6-e9ca-4349-8e67-1cbbf88637a8",
   "metadata": {},
   "source": [
    "## Author\n",
    "Nikki de Vries"
   ]
  }
 ],
 "metadata": {
  "kernelspec": {
   "display_name": "Python 3 (ipykernel)",
   "language": "python",
   "name": "python3"
  },
  "language_info": {
   "codemirror_mode": {
    "name": "ipython",
    "version": 3
   },
   "file_extension": ".py",
   "mimetype": "text/x-python",
   "name": "python",
   "nbconvert_exporter": "python",
   "pygments_lexer": "ipython3",
   "version": "3.11.4"
  }
 },
 "nbformat": 4,
 "nbformat_minor": 5
}
